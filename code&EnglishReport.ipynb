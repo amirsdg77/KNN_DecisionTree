{
 "cells": [
  {
   "cell_type": "code",
   "execution_count": 1,
   "id": "d2659163",
   "metadata": {},
   "outputs": [],
   "source": [
    "import pandas as pd\n",
    "import numpy as np\n",
    "import io\n",
    "import os\n",
    "import time"
   ]
  },
  {
   "cell_type": "markdown",
   "id": "2bb1a969",
   "metadata": {},
   "source": [
    "In this project, we want to implement decision tree and KNN algorithms on different datasets."
   ]
  },
  {
   "cell_type": "markdown",
   "id": "6bfad403",
   "metadata": {},
   "source": [
    "The goal is to do three tasks and give an analysis on all of them"
   ]
  },
  {
   "cell_type": "markdown",
   "id": "289264a5",
   "metadata": {},
   "source": [
    "# Decision Tree"
   ]
  },
  {
   "cell_type": "markdown",
   "id": "e6faa324",
   "metadata": {},
   "source": [
    "First we open and set the dataset up."
   ]
  },
  {
   "cell_type": "code",
   "execution_count": 2,
   "id": "c71e7426",
   "metadata": {},
   "outputs": [],
   "source": [
    "cols = [\"name\", \"hobby\", \"age\", \"edicational level\", \"material status\", \"class\"]\n",
    "test_cols = [\"hobby\", \"age\", \"edicational level\", \"material status\", \"class\"]"
   ]
  },
  {
   "cell_type": "code",
   "execution_count": 3,
   "id": "5811324b",
   "metadata": {},
   "outputs": [],
   "source": [
    "train = pd.read_csv(\"DT/hayes-roth.data\", header=None, names=cols)\n",
    "test = pd.read_csv(\"DT/hayes-roth.test\", header=None, names=test_cols)"
   ]
  },
  {
   "cell_type": "code",
   "execution_count": 4,
   "id": "abbc76c5",
   "metadata": {},
   "outputs": [
    {
     "data": {
      "text/html": [
       "<div>\n",
       "<style scoped>\n",
       "    .dataframe tbody tr th:only-of-type {\n",
       "        vertical-align: middle;\n",
       "    }\n",
       "\n",
       "    .dataframe tbody tr th {\n",
       "        vertical-align: top;\n",
       "    }\n",
       "\n",
       "    .dataframe thead th {\n",
       "        text-align: right;\n",
       "    }\n",
       "</style>\n",
       "<table border=\"1\" class=\"dataframe\">\n",
       "  <thead>\n",
       "    <tr style=\"text-align: right;\">\n",
       "      <th></th>\n",
       "      <th>hobby</th>\n",
       "      <th>age</th>\n",
       "      <th>edicational level</th>\n",
       "      <th>material status</th>\n",
       "      <th>class</th>\n",
       "    </tr>\n",
       "  </thead>\n",
       "  <tbody>\n",
       "    <tr>\n",
       "      <th>0</th>\n",
       "      <td>2</td>\n",
       "      <td>1</td>\n",
       "      <td>1</td>\n",
       "      <td>2</td>\n",
       "      <td>1</td>\n",
       "    </tr>\n",
       "    <tr>\n",
       "      <th>1</th>\n",
       "      <td>2</td>\n",
       "      <td>1</td>\n",
       "      <td>3</td>\n",
       "      <td>2</td>\n",
       "      <td>2</td>\n",
       "    </tr>\n",
       "    <tr>\n",
       "      <th>2</th>\n",
       "      <td>3</td>\n",
       "      <td>1</td>\n",
       "      <td>4</td>\n",
       "      <td>1</td>\n",
       "      <td>3</td>\n",
       "    </tr>\n",
       "    <tr>\n",
       "      <th>3</th>\n",
       "      <td>2</td>\n",
       "      <td>4</td>\n",
       "      <td>2</td>\n",
       "      <td>2</td>\n",
       "      <td>3</td>\n",
       "    </tr>\n",
       "    <tr>\n",
       "      <th>4</th>\n",
       "      <td>1</td>\n",
       "      <td>1</td>\n",
       "      <td>3</td>\n",
       "      <td>4</td>\n",
       "      <td>3</td>\n",
       "    </tr>\n",
       "  </tbody>\n",
       "</table>\n",
       "</div>"
      ],
      "text/plain": [
       "   hobby  age  edicational level  material status  class\n",
       "0      2    1                  1                2      1\n",
       "1      2    1                  3                2      2\n",
       "2      3    1                  4                1      3\n",
       "3      2    4                  2                2      3\n",
       "4      1    1                  3                4      3"
      ]
     },
     "execution_count": 4,
     "metadata": {},
     "output_type": "execute_result"
    }
   ],
   "source": [
    "train = train.drop(\"name\", axis = 1)\n",
    "train.head()"
   ]
  },
  {
   "cell_type": "code",
   "execution_count": 5,
   "id": "1d8f9861",
   "metadata": {},
   "outputs": [
    {
     "data": {
      "text/html": [
       "<div>\n",
       "<style scoped>\n",
       "    .dataframe tbody tr th:only-of-type {\n",
       "        vertical-align: middle;\n",
       "    }\n",
       "\n",
       "    .dataframe tbody tr th {\n",
       "        vertical-align: top;\n",
       "    }\n",
       "\n",
       "    .dataframe thead th {\n",
       "        text-align: right;\n",
       "    }\n",
       "</style>\n",
       "<table border=\"1\" class=\"dataframe\">\n",
       "  <thead>\n",
       "    <tr style=\"text-align: right;\">\n",
       "      <th></th>\n",
       "      <th>hobby</th>\n",
       "      <th>age</th>\n",
       "      <th>edicational level</th>\n",
       "      <th>material status</th>\n",
       "      <th>class</th>\n",
       "    </tr>\n",
       "  </thead>\n",
       "  <tbody>\n",
       "    <tr>\n",
       "      <th>0</th>\n",
       "      <td>1</td>\n",
       "      <td>1</td>\n",
       "      <td>1</td>\n",
       "      <td>2</td>\n",
       "      <td>1</td>\n",
       "    </tr>\n",
       "    <tr>\n",
       "      <th>1</th>\n",
       "      <td>1</td>\n",
       "      <td>1</td>\n",
       "      <td>2</td>\n",
       "      <td>1</td>\n",
       "      <td>1</td>\n",
       "    </tr>\n",
       "    <tr>\n",
       "      <th>2</th>\n",
       "      <td>1</td>\n",
       "      <td>2</td>\n",
       "      <td>1</td>\n",
       "      <td>1</td>\n",
       "      <td>1</td>\n",
       "    </tr>\n",
       "    <tr>\n",
       "      <th>3</th>\n",
       "      <td>1</td>\n",
       "      <td>1</td>\n",
       "      <td>1</td>\n",
       "      <td>3</td>\n",
       "      <td>1</td>\n",
       "    </tr>\n",
       "    <tr>\n",
       "      <th>4</th>\n",
       "      <td>1</td>\n",
       "      <td>1</td>\n",
       "      <td>3</td>\n",
       "      <td>1</td>\n",
       "      <td>1</td>\n",
       "    </tr>\n",
       "  </tbody>\n",
       "</table>\n",
       "</div>"
      ],
      "text/plain": [
       "   hobby  age  edicational level  material status  class\n",
       "0      1    1                  1                2      1\n",
       "1      1    1                  2                1      1\n",
       "2      1    2                  1                1      1\n",
       "3      1    1                  1                3      1\n",
       "4      1    1                  3                1      1"
      ]
     },
     "execution_count": 5,
     "metadata": {},
     "output_type": "execute_result"
    }
   ],
   "source": [
    "test.head()"
   ]
  },
  {
   "cell_type": "markdown",
   "id": "738c6863",
   "metadata": {},
   "source": [
    "## i)"
   ]
  },
  {
   "cell_type": "markdown",
   "id": "a7b6b3f5",
   "metadata": {},
   "source": [
    "In this section we want to fit the decision tree on our train dataset and report the train and test accuracies and errors"
   ]
  },
  {
   "cell_type": "markdown",
   "id": "123543ab",
   "metadata": {},
   "source": [
    "In order to fulfill our goal, we first determine x and y for test and train datasets."
   ]
  },
  {
   "cell_type": "code",
   "execution_count": 6,
   "id": "eb7eeed7",
   "metadata": {},
   "outputs": [],
   "source": [
    "x_train = train.drop(\"class\", axis = 1)\n",
    "y_train = train['class']\n",
    "\n",
    "x_test = test.drop(\"class\", axis = 1)\n",
    "y_test = test['class']"
   ]
  },
  {
   "cell_type": "code",
   "execution_count": 7,
   "id": "8b5e6d35",
   "metadata": {},
   "outputs": [],
   "source": [
    "from sklearn import tree\n",
    "\n",
    "tree_clf = tree.DecisionTreeClassifier()\n",
    "tree_clf = tree_clf.fit(x_train, y_train)"
   ]
  },
  {
   "cell_type": "markdown",
   "id": "8847d64c",
   "metadata": {},
   "source": [
    "In the following line we measure train accuracy and error"
   ]
  },
  {
   "cell_type": "code",
   "execution_count": 8,
   "id": "b07924f0",
   "metadata": {},
   "outputs": [
    {
     "name": "stdout",
     "output_type": "stream",
     "text": [
      "train accuracy:0.9090909090909091\n",
      "train error: 0.09090909090909094\n"
     ]
    }
   ],
   "source": [
    "print(f\"train accuracy:{tree_clf.score(x_train, y_train)}\")\n",
    "print(f\"train error: {1 - tree_clf.score(x_train, y_train)}\")"
   ]
  },
  {
   "cell_type": "code",
   "execution_count": 9,
   "id": "a74657ae",
   "metadata": {},
   "outputs": [
    {
     "data": {
      "text/plain": [
       "array([1, 1, 1, 1, 1, 1, 1, 1, 1, 2, 2, 2, 2, 2, 2, 2, 2, 2, 1, 1, 2, 2,\n",
       "       2, 2, 1, 2, 2, 3], dtype=int64)"
      ]
     },
     "execution_count": 9,
     "metadata": {},
     "output_type": "execute_result"
    }
   ],
   "source": [
    "preds = tree_clf.predict(x_test)\n",
    "preds"
   ]
  },
  {
   "cell_type": "markdown",
   "id": "957407b1",
   "metadata": {},
   "source": [
    "In the following line we measure test accuracy and error"
   ]
  },
  {
   "cell_type": "code",
   "execution_count": 10,
   "id": "932a73de",
   "metadata": {},
   "outputs": [
    {
     "name": "stdout",
     "output_type": "stream",
     "text": [
      "test accuracy:0.8571428571428571\n",
      "test error: 0.1428571428571429\n"
     ]
    }
   ],
   "source": [
    "print(f\"test accuracy:{tree_clf.score(x_test, y_test)}\")\n",
    "print(f\"test error: {1 - tree_clf.score(x_test, y_test)}\")"
   ]
  },
  {
   "cell_type": "code",
   "execution_count": 11,
   "id": "305cb17d",
   "metadata": {},
   "outputs": [
    {
     "name": "stdout",
     "output_type": "stream",
     "text": [
      "test measurements:\n",
      "   precision \t\t recall \t\t f1score\n",
      "(0.8571428571428571, 0.8571428571428571, 0.8571428571428571, None)\n",
      "(0.9055555555555556, 0.9029304029304029, 0.9010989010989011, None)\n",
      "(0.8654761904761905, 0.8571428571428571, 0.8567503924646782, None)\n"
     ]
    }
   ],
   "source": [
    "from sklearn.metrics import precision_recall_fscore_support\n",
    "\n",
    "print(\"test measurements:\")\n",
    "print(\"   precision \\t\\t recall \\t\\t f1score\")\n",
    "print(precision_recall_fscore_support(y_test, preds, average='micro'))\n",
    "print(precision_recall_fscore_support(y_test, preds, average='macro'))\n",
    "print(precision_recall_fscore_support(y_test, preds, average='weighted'))"
   ]
  },
  {
   "cell_type": "markdown",
   "id": "6b50a1bb",
   "metadata": {},
   "source": [
    "As we can see sklearn library score() function measures f1score for accuracy which is harmonic mean"
   ]
  },
  {
   "cell_type": "markdown",
   "id": "88d170c8",
   "metadata": {},
   "source": [
    "The algorithm has a reasonable performance on our data, there is no sign of overfitting and underfitting"
   ]
  },
  {
   "cell_type": "markdown",
   "id": "2cffd43f",
   "metadata": {},
   "source": [
    "## ii)"
   ]
  },
  {
   "cell_type": "markdown",
   "id": "f1096400",
   "metadata": {},
   "source": [
    "In this section, we want to determine the optimal depth for our decision tree"
   ]
  },
  {
   "cell_type": "markdown",
   "id": "cc11f518",
   "metadata": {},
   "source": [
    "We use cross-validation in order to reach our goal"
   ]
  },
  {
   "cell_type": "markdown",
   "id": "cf373311",
   "metadata": {},
   "source": [
    "With the following piece of code, we save results of depths between 3 and 20, then measure the maximum accuracy for our optimal depth"
   ]
  },
  {
   "cell_type": "code",
   "execution_count": 12,
   "id": "c3a9843e",
   "metadata": {},
   "outputs": [
    {
     "name": "stdout",
     "output_type": "stream",
     "text": [
      "[(3, 0.5757575757575758), (4, 0.6136363636363636), (5, 0.6742424242424242), (6, 0.8636363636363636), (7, 0.8409090909090909), (8, 0.8333333333333334), (9, 0.8409090909090909), (10, 0.8409090909090909), (11, 0.8409090909090909), (12, 0.8409090909090909), (13, 0.8409090909090909), (14, 0.8409090909090909), (15, 0.8409090909090909), (16, 0.8409090909090909), (17, 0.8409090909090909), (18, 0.8409090909090909), (19, 0.8409090909090909)]\n"
     ]
    }
   ],
   "source": [
    "from sklearn.model_selection import cross_val_score\n",
    "\n",
    "depth = []\n",
    "x = train.drop(\"class\", axis=1)\n",
    "y = train['class']\n",
    "for i in range(3,20):\n",
    "    clf = tree.DecisionTreeClassifier(max_depth=i)\n",
    "    scores = cross_val_score(estimator=clf, X=x , y=y, cv=3)\n",
    "    depth.append((i,scores.mean()))\n",
    "print(depth)"
   ]
  },
  {
   "cell_type": "markdown",
   "id": "d55717de",
   "metadata": {},
   "source": [
    "The following code gives our optimal depth"
   ]
  },
  {
   "cell_type": "code",
   "execution_count": 13,
   "id": "20c0e1f7",
   "metadata": {},
   "outputs": [
    {
     "data": {
      "text/plain": [
       "6"
      ]
     },
     "execution_count": 13,
     "metadata": {},
     "output_type": "execute_result"
    }
   ],
   "source": [
    "from operator import itemgetter\n",
    "max(depth,key=itemgetter(1))[0]"
   ]
  },
  {
   "cell_type": "code",
   "execution_count": 14,
   "id": "e6f879e0",
   "metadata": {},
   "outputs": [],
   "source": [
    "optimal_depth = max(depth,key=itemgetter(1))[0]"
   ]
  },
  {
   "cell_type": "markdown",
   "id": "e9e789b5",
   "metadata": {},
   "source": [
    "# iii)"
   ]
  },
  {
   "cell_type": "markdown",
   "id": "6bfaf38d",
   "metadata": {},
   "source": [
    "In this section we want to compare the results of our optimal depth with the results calculated in section (i)"
   ]
  },
  {
   "cell_type": "markdown",
   "id": "889149b9",
   "metadata": {},
   "source": [
    "To fulfill this task, we make predictions on our test set with our optimal depth"
   ]
  },
  {
   "cell_type": "code",
   "execution_count": 15,
   "id": "05c407a6",
   "metadata": {},
   "outputs": [],
   "source": [
    "tree_clf = tree.DecisionTreeClassifier(max_depth = optimal_depth)\n",
    "tree_clf = tree_clf.fit(x_train, y_train)"
   ]
  },
  {
   "cell_type": "code",
   "execution_count": 16,
   "id": "9b4e52e8",
   "metadata": {},
   "outputs": [
    {
     "data": {
      "text/plain": [
       "array([1, 1, 1, 1, 1, 1, 2, 2, 2, 2, 2, 2, 2, 2, 2, 2, 2, 2, 2, 2, 2, 2,\n",
       "       2, 2, 1, 2, 2, 3], dtype=int64)"
      ]
     },
     "execution_count": 16,
     "metadata": {},
     "output_type": "execute_result"
    }
   ],
   "source": [
    "preds = tree_clf.predict(x_test)\n",
    "preds"
   ]
  },
  {
   "cell_type": "code",
   "execution_count": 17,
   "id": "52086d5a",
   "metadata": {},
   "outputs": [
    {
     "name": "stdout",
     "output_type": "stream",
     "text": [
      "   precision \t\t recall \t\t f1score\n",
      "(0.75, 0.75, 0.75, None)\n",
      "(0.8833333333333333, 0.8333333333333334, 0.8181818181818182, None)\n",
      "(0.8375000000000001, 0.75, 0.734848484848485, None)\n"
     ]
    }
   ],
   "source": [
    "from sklearn.metrics import precision_recall_fscore_support\n",
    "\n",
    "print(\"   precision \\t\\t recall \\t\\t f1score\")\n",
    "print(precision_recall_fscore_support(y_test, preds, average='micro'))\n",
    "print(precision_recall_fscore_support(y_test, preds, average='macro'))\n",
    "print(precision_recall_fscore_support(y_test, preds, average='weighted'))"
   ]
  },
  {
   "cell_type": "markdown",
   "id": "15d3cd8e",
   "metadata": {},
   "source": [
    "As we can see here, the results in the optimal depth, which was measured on our train set is not better than the results provided in section (i)"
   ]
  },
  {
   "cell_type": "markdown",
   "id": "f550243c",
   "metadata": {},
   "source": [
    "Results of section (i):"
   ]
  },
  {
   "cell_type": "markdown",
   "id": "3fdff2af",
   "metadata": {},
   "source": [
    "    precision \t\t         recall \t\t f1score\n",
    "(0.8571428571428571, 0.8571428571428571, 0.8571428571428571, None)\n",
    "\n",
    "(0.9055555555555556, 0.9029304029304029, 0.9010989010989011, None)\n",
    "\n",
    "(0.8654761904761905, 0.8571428571428571, 0.8567503924646782, None)"
   ]
  },
  {
   "cell_type": "markdown",
   "id": "4d5e7ee7",
   "metadata": {},
   "source": [
    "The lack of performance in optimal depth for our test set lies in the fact that our optimal depth was determined by the model fitted on our train dataset\n",
    "\n",
    "we can not expect better solutions on every test set we give our model"
   ]
  },
  {
   "cell_type": "markdown",
   "id": "9dbf5806",
   "metadata": {},
   "source": [
    "# KNN"
   ]
  },
  {
   "cell_type": "markdown",
   "id": "43f41a69",
   "metadata": {},
   "source": [
    "This is the second section in out assignment\n",
    "\n",
    "In this section, we want to fit a KNN model on the dataset given"
   ]
  },
  {
   "cell_type": "code",
   "execution_count": 18,
   "id": "0c1843f4",
   "metadata": {},
   "outputs": [],
   "source": [
    "data = pd.read_csv(\"KNN/haberman.data\", header=None, names=[\"Age\", \"Year of operation\", \"Number of positive cases\", \"Survival status\"])"
   ]
  },
  {
   "cell_type": "code",
   "execution_count": 19,
   "id": "f8ba47c2",
   "metadata": {},
   "outputs": [
    {
     "data": {
      "text/html": [
       "<div>\n",
       "<style scoped>\n",
       "    .dataframe tbody tr th:only-of-type {\n",
       "        vertical-align: middle;\n",
       "    }\n",
       "\n",
       "    .dataframe tbody tr th {\n",
       "        vertical-align: top;\n",
       "    }\n",
       "\n",
       "    .dataframe thead th {\n",
       "        text-align: right;\n",
       "    }\n",
       "</style>\n",
       "<table border=\"1\" class=\"dataframe\">\n",
       "  <thead>\n",
       "    <tr style=\"text-align: right;\">\n",
       "      <th></th>\n",
       "      <th>Age</th>\n",
       "      <th>Year of operation</th>\n",
       "      <th>Number of positive cases</th>\n",
       "      <th>Survival status</th>\n",
       "    </tr>\n",
       "  </thead>\n",
       "  <tbody>\n",
       "    <tr>\n",
       "      <th>0</th>\n",
       "      <td>30</td>\n",
       "      <td>64</td>\n",
       "      <td>1</td>\n",
       "      <td>1</td>\n",
       "    </tr>\n",
       "    <tr>\n",
       "      <th>1</th>\n",
       "      <td>30</td>\n",
       "      <td>62</td>\n",
       "      <td>3</td>\n",
       "      <td>1</td>\n",
       "    </tr>\n",
       "    <tr>\n",
       "      <th>2</th>\n",
       "      <td>30</td>\n",
       "      <td>65</td>\n",
       "      <td>0</td>\n",
       "      <td>1</td>\n",
       "    </tr>\n",
       "    <tr>\n",
       "      <th>3</th>\n",
       "      <td>31</td>\n",
       "      <td>59</td>\n",
       "      <td>2</td>\n",
       "      <td>1</td>\n",
       "    </tr>\n",
       "    <tr>\n",
       "      <th>4</th>\n",
       "      <td>31</td>\n",
       "      <td>65</td>\n",
       "      <td>4</td>\n",
       "      <td>1</td>\n",
       "    </tr>\n",
       "    <tr>\n",
       "      <th>...</th>\n",
       "      <td>...</td>\n",
       "      <td>...</td>\n",
       "      <td>...</td>\n",
       "      <td>...</td>\n",
       "    </tr>\n",
       "    <tr>\n",
       "      <th>301</th>\n",
       "      <td>75</td>\n",
       "      <td>62</td>\n",
       "      <td>1</td>\n",
       "      <td>1</td>\n",
       "    </tr>\n",
       "    <tr>\n",
       "      <th>302</th>\n",
       "      <td>76</td>\n",
       "      <td>67</td>\n",
       "      <td>0</td>\n",
       "      <td>1</td>\n",
       "    </tr>\n",
       "    <tr>\n",
       "      <th>303</th>\n",
       "      <td>77</td>\n",
       "      <td>65</td>\n",
       "      <td>3</td>\n",
       "      <td>1</td>\n",
       "    </tr>\n",
       "    <tr>\n",
       "      <th>304</th>\n",
       "      <td>78</td>\n",
       "      <td>65</td>\n",
       "      <td>1</td>\n",
       "      <td>2</td>\n",
       "    </tr>\n",
       "    <tr>\n",
       "      <th>305</th>\n",
       "      <td>83</td>\n",
       "      <td>58</td>\n",
       "      <td>2</td>\n",
       "      <td>2</td>\n",
       "    </tr>\n",
       "  </tbody>\n",
       "</table>\n",
       "<p>306 rows × 4 columns</p>\n",
       "</div>"
      ],
      "text/plain": [
       "     Age  Year of operation  Number of positive cases  Survival status\n",
       "0     30                 64                         1                1\n",
       "1     30                 62                         3                1\n",
       "2     30                 65                         0                1\n",
       "3     31                 59                         2                1\n",
       "4     31                 65                         4                1\n",
       "..   ...                ...                       ...              ...\n",
       "301   75                 62                         1                1\n",
       "302   76                 67                         0                1\n",
       "303   77                 65                         3                1\n",
       "304   78                 65                         1                2\n",
       "305   83                 58                         2                2\n",
       "\n",
       "[306 rows x 4 columns]"
      ]
     },
     "execution_count": 19,
     "metadata": {},
     "output_type": "execute_result"
    }
   ],
   "source": [
    "data"
   ]
  },
  {
   "cell_type": "markdown",
   "id": "bfe28b51",
   "metadata": {},
   "source": [
    "## i)"
   ]
  },
  {
   "cell_type": "markdown",
   "id": "5c86b4de",
   "metadata": {},
   "source": [
    "In this part, our goal is to fit our model on different k values, ranging from 1 to 40\n",
    "\n",
    "After measuring train and test accuracy and error, we will plot them by scatterplot\n",
    "\n",
    "First we will split our data to train and test"
   ]
  },
  {
   "cell_type": "code",
   "execution_count": 20,
   "id": "1adb7f97",
   "metadata": {},
   "outputs": [],
   "source": [
    "from sklearn.model_selection import train_test_split\n",
    "\n",
    "train, valid = train_test_split(data, test_size=0.2)"
   ]
  },
  {
   "cell_type": "markdown",
   "id": "11e5c778",
   "metadata": {},
   "source": [
    "First we preprocess our data by following codes:"
   ]
  },
  {
   "cell_type": "code",
   "execution_count": 21,
   "id": "d6e09f33",
   "metadata": {},
   "outputs": [],
   "source": [
    "x_train = train.drop(\"Survival status\", axis = 1)\n",
    "y_train = train['Survival status']\n",
    "\n",
    "x_test = valid.drop(\"Survival status\", axis = 1)\n",
    "y_test = valid['Survival status']"
   ]
  },
  {
   "cell_type": "code",
   "execution_count": 22,
   "id": "57238fbc",
   "metadata": {},
   "outputs": [],
   "source": [
    "x_train['Age'] = (x_train['Age'] - x_train['Age'].mean())/ x_train['Age'].std()\n",
    "x_train['Year of operation'] = (x_train['Year of operation'] - x_train['Year of operation'].mean())/ x_train['Year of operation'].std()\n",
    "x_train['Number of positive cases'] = (x_train['Number of positive cases'] - x_train['Number of positive cases'].mean())/ x_train['Number of positive cases'].std()"
   ]
  },
  {
   "cell_type": "code",
   "execution_count": 23,
   "id": "26fbefaf",
   "metadata": {},
   "outputs": [],
   "source": [
    "x_test['Age'] = (x_test['Age'] - x_test['Age'].mean())/ x_test['Age'].std()\n",
    "x_test['Year of operation'] = (x_test['Year of operation'] - x_test['Year of operation'].mean())/ x_test['Year of operation'].std()\n",
    "x_test['Number of positive cases'] = (x_test['Number of positive cases'] - x_test['Number of positive cases'].mean())/ x_test['Number of positive cases'].std()"
   ]
  },
  {
   "cell_type": "code",
   "execution_count": 24,
   "id": "1643c13c",
   "metadata": {},
   "outputs": [
    {
     "data": {
      "text/html": [
       "<div>\n",
       "<style scoped>\n",
       "    .dataframe tbody tr th:only-of-type {\n",
       "        vertical-align: middle;\n",
       "    }\n",
       "\n",
       "    .dataframe tbody tr th {\n",
       "        vertical-align: top;\n",
       "    }\n",
       "\n",
       "    .dataframe thead th {\n",
       "        text-align: right;\n",
       "    }\n",
       "</style>\n",
       "<table border=\"1\" class=\"dataframe\">\n",
       "  <thead>\n",
       "    <tr style=\"text-align: right;\">\n",
       "      <th></th>\n",
       "      <th>Age</th>\n",
       "      <th>Year of operation</th>\n",
       "      <th>Number of positive cases</th>\n",
       "    </tr>\n",
       "  </thead>\n",
       "  <tbody>\n",
       "    <tr>\n",
       "      <th>81</th>\n",
       "      <td>-0.613831</td>\n",
       "      <td>1.021958</td>\n",
       "      <td>-0.451829</td>\n",
       "    </tr>\n",
       "    <tr>\n",
       "      <th>55</th>\n",
       "      <td>-0.874499</td>\n",
       "      <td>-1.538098</td>\n",
       "      <td>-0.451829</td>\n",
       "    </tr>\n",
       "    <tr>\n",
       "      <th>209</th>\n",
       "      <td>0.515730</td>\n",
       "      <td>-0.898084</td>\n",
       "      <td>0.093887</td>\n",
       "    </tr>\n",
       "    <tr>\n",
       "      <th>17</th>\n",
       "      <td>-1.395834</td>\n",
       "      <td>1.981978</td>\n",
       "      <td>-0.451829</td>\n",
       "    </tr>\n",
       "    <tr>\n",
       "      <th>274</th>\n",
       "      <td>1.297733</td>\n",
       "      <td>0.061937</td>\n",
       "      <td>-0.269924</td>\n",
       "    </tr>\n",
       "  </tbody>\n",
       "</table>\n",
       "</div>"
      ],
      "text/plain": [
       "          Age  Year of operation  Number of positive cases\n",
       "81  -0.613831           1.021958                 -0.451829\n",
       "55  -0.874499          -1.538098                 -0.451829\n",
       "209  0.515730          -0.898084                  0.093887\n",
       "17  -1.395834           1.981978                 -0.451829\n",
       "274  1.297733           0.061937                 -0.269924"
      ]
     },
     "execution_count": 24,
     "metadata": {},
     "output_type": "execute_result"
    }
   ],
   "source": [
    "x_test.head()"
   ]
  },
  {
   "cell_type": "code",
   "execution_count": 25,
   "id": "d55b7eb6",
   "metadata": {},
   "outputs": [
    {
     "data": {
      "text/html": [
       "<div>\n",
       "<style scoped>\n",
       "    .dataframe tbody tr th:only-of-type {\n",
       "        vertical-align: middle;\n",
       "    }\n",
       "\n",
       "    .dataframe tbody tr th {\n",
       "        vertical-align: top;\n",
       "    }\n",
       "\n",
       "    .dataframe thead th {\n",
       "        text-align: right;\n",
       "    }\n",
       "</style>\n",
       "<table border=\"1\" class=\"dataframe\">\n",
       "  <thead>\n",
       "    <tr style=\"text-align: right;\">\n",
       "      <th></th>\n",
       "      <th>Age</th>\n",
       "      <th>Year of operation</th>\n",
       "      <th>Number of positive cases</th>\n",
       "    </tr>\n",
       "  </thead>\n",
       "  <tbody>\n",
       "    <tr>\n",
       "      <th>59</th>\n",
       "      <td>-0.992302</td>\n",
       "      <td>-0.263129</td>\n",
       "      <td>2.072401</td>\n",
       "    </tr>\n",
       "    <tr>\n",
       "      <th>167</th>\n",
       "      <td>0.135594</td>\n",
       "      <td>-0.871694</td>\n",
       "      <td>0.875401</td>\n",
       "    </tr>\n",
       "    <tr>\n",
       "      <th>213</th>\n",
       "      <td>0.511559</td>\n",
       "      <td>-1.480259</td>\n",
       "      <td>-0.188598</td>\n",
       "    </tr>\n",
       "    <tr>\n",
       "      <th>281</th>\n",
       "      <td>1.545464</td>\n",
       "      <td>1.258282</td>\n",
       "      <td>0.476401</td>\n",
       "    </tr>\n",
       "    <tr>\n",
       "      <th>76</th>\n",
       "      <td>-0.804319</td>\n",
       "      <td>-0.567412</td>\n",
       "      <td>-0.587598</td>\n",
       "    </tr>\n",
       "  </tbody>\n",
       "</table>\n",
       "</div>"
      ],
      "text/plain": [
       "          Age  Year of operation  Number of positive cases\n",
       "59  -0.992302          -0.263129                  2.072401\n",
       "167  0.135594          -0.871694                  0.875401\n",
       "213  0.511559          -1.480259                 -0.188598\n",
       "281  1.545464           1.258282                  0.476401\n",
       "76  -0.804319          -0.567412                 -0.587598"
      ]
     },
     "execution_count": 25,
     "metadata": {},
     "output_type": "execute_result"
    }
   ],
   "source": [
    "x_train.head()"
   ]
  },
  {
   "cell_type": "markdown",
   "id": "6a560815",
   "metadata": {},
   "source": [
    "In the following code, we will measure train and test accuracy and errors and save the into lists\n",
    "\n",
    "After saving them, we will plot them using scatterplot"
   ]
  },
  {
   "cell_type": "code",
   "execution_count": 26,
   "id": "39f40d02",
   "metadata": {},
   "outputs": [],
   "source": [
    "from sklearn.neighbors import KNeighborsClassifier\n",
    "from sklearn.metrics import accuracy_score\n",
    "\n",
    "error_dict, train_error, test_error = [], [], []\n",
    "train_acc, test_acc = [], []\n",
    "ks = []\n",
    "for k in range(40):\n",
    "    neigh = KNeighborsClassifier(n_neighbors=k+1, metric=\"euclidean\")\n",
    "    neigh.fit(x_train, y_train)\n",
    "    error_dict.append({\"k\": k + 1,\n",
    "                       \"train_error\": neigh.score(x_train, y_train),\n",
    "                       \"test_error\": neigh.score(x_test, y_test)})\n",
    "    train_error.append(1 - neigh.score(x_train, y_train))\n",
    "    test_error.append(1 - neigh.score(x_test, y_test))\n",
    "    \n",
    "    train_acc.append(neigh.score(x_train, y_train))\n",
    "    test_acc.append(neigh.score(x_test, y_test))\n",
    "    \n",
    "    ks.append(k+1)"
   ]
  },
  {
   "cell_type": "markdown",
   "id": "bb564559",
   "metadata": {},
   "source": [
    "In this part, we plot the results:"
   ]
  },
  {
   "cell_type": "code",
   "execution_count": 27,
   "id": "538dfd4c",
   "metadata": {},
   "outputs": [
    {
     "data": {
      "image/png": "[encoded data removed]",
      "text/plain": [
       "<Figure size 432x288 with 1 Axes>"
      ]
     },
     "metadata": {
      "needs_background": "light"
     },
     "output_type": "display_data"
    }
   ],
   "source": [
    "import matplotlib.pyplot as plt\n",
    "\n",
    "\n",
    "fig = plt.figure()\n",
    "ax1 = fig.add_subplot(111)\n",
    "\n",
    "ax1.scatter(train_error, ks, s=10, c='b', marker=\"s\", label='train error')\n",
    "ax1.scatter(test_error ,ks, s=10, c='r', marker=\"o\", label='test error')\n",
    "\n",
    "plt.legend(loc='upper left')\n",
    "\n",
    "plt.xlabel('errors')\n",
    "plt.ylabel('K')\n",
    "\n",
    "plt.show()"
   ]
  },
  {
   "cell_type": "code",
   "execution_count": 28,
   "id": "1a469ed9",
   "metadata": {},
   "outputs": [
    {
     "data": {
      "image/png": "[encoded data removed]",
      "text/plain": [
       "<Figure size 432x288 with 1 Axes>"
      ]
     },
     "metadata": {
      "needs_background": "light"
     },
     "output_type": "display_data"
    }
   ],
   "source": [
    "fig = plt.figure()\n",
    "ax1 = fig.add_subplot(111)\n",
    "\n",
    "ax1.scatter(train_acc, ks, s=10, c='b', marker=\"s\", label='train acc')\n",
    "ax1.scatter(test_acc ,ks, s=10, c='r', marker=\"o\", label='test acc')\n",
    "\n",
    "plt.legend(loc='upper left')\n",
    "\n",
    "plt.xlabel('accuracy')\n",
    "plt.ylabel('K')\n",
    "\n",
    "plt.show()"
   ]
  },
  {
   "cell_type": "markdown",
   "id": "f431f661",
   "metadata": {},
   "source": [
    "As we can see graphs above, for k = 1 the train error is too small and test error is too high\n",
    "\n",
    "This means that our model is overfitting and not classifying proplerly\n",
    "\n",
    "We can witness that as we increase the value of k, the results get more reasonable and we can see that the overfitting issue is gone"
   ]
  },
  {
   "cell_type": "markdown",
   "id": "a401b4fe",
   "metadata": {},
   "source": [
    "## ii)"
   ]
  },
  {
   "cell_type": "markdown",
   "id": "9ee583fa",
   "metadata": {},
   "source": [
    "In this section, we want to make predictions for k = [1, 5 , 20, 40] values\n",
    "\n",
    "we want to see that which class gets more desirable as we increase the value of k"
   ]
  },
  {
   "cell_type": "code",
   "execution_count": 29,
   "id": "28238afd",
   "metadata": {},
   "outputs": [],
   "source": [
    "from sklearn.model_selection import KFold"
   ]
  },
  {
   "cell_type": "code",
   "execution_count": 30,
   "id": "0d0d04a3",
   "metadata": {},
   "outputs": [],
   "source": [
    "ks = [1, 5, 20, 40]"
   ]
  },
  {
   "cell_type": "markdown",
   "id": "7cfa4c09",
   "metadata": {},
   "source": [
    "In the following code, we save the predictions of different values of k in a list"
   ]
  },
  {
   "cell_type": "code",
   "execution_count": 31,
   "id": "42f25200",
   "metadata": {},
   "outputs": [],
   "source": [
    "preds = []\n",
    "for k in ks:\n",
    "    neigh = KNeighborsClassifier(n_neighbors=k, metric=\"euclidean\")\n",
    "    neigh.fit(x_train, y_train)\n",
    "    error_dict.append({\"k\": k,\n",
    "                       \"train_error\": neigh.score(x_train, y_train),\n",
    "                       \"test_error\": neigh.score(x_test, y_test)})\n",
    "    preds.append(neigh.predict(x_test))"
   ]
  },
  {
   "cell_type": "code",
   "execution_count": 32,
   "id": "6b295ce9",
   "metadata": {},
   "outputs": [
    {
     "data": {
      "text/plain": [
       "[array([1, 1, 2, 2, 1, 1, 1, 1, 1, 2, 2, 1, 2, 2, 1, 1, 1, 1, 1, 1, 1, 1,\n",
       "        1, 1, 1, 1, 1, 2, 1, 1, 2, 1, 2, 2, 1, 2, 2, 1, 1, 2, 1, 1, 1, 1,\n",
       "        2, 1, 1, 2, 2, 1, 2, 2, 2, 2, 1, 1, 1, 2, 2, 2, 1, 2], dtype=int64),\n",
       " array([1, 1, 1, 2, 1, 1, 1, 1, 1, 2, 2, 1, 1, 2, 1, 1, 1, 1, 1, 1, 1, 1,\n",
       "        1, 1, 1, 1, 1, 2, 1, 1, 1, 1, 2, 2, 1, 1, 2, 2, 1, 2, 1, 2, 1, 2,\n",
       "        1, 1, 1, 1, 2, 1, 1, 2, 2, 1, 1, 1, 1, 1, 1, 1, 1, 2], dtype=int64),\n",
       " array([1, 1, 1, 1, 1, 1, 1, 1, 1, 1, 1, 1, 1, 2, 1, 1, 1, 1, 1, 1, 1, 1,\n",
       "        1, 1, 1, 1, 1, 2, 1, 1, 1, 1, 1, 2, 1, 1, 1, 1, 1, 2, 1, 1, 1, 2,\n",
       "        1, 1, 1, 1, 1, 1, 1, 1, 2, 1, 1, 1, 1, 1, 1, 1, 1, 2], dtype=int64),\n",
       " array([1, 1, 1, 1, 1, 1, 1, 1, 1, 1, 1, 1, 1, 2, 1, 1, 1, 1, 1, 1, 1, 1,\n",
       "        1, 1, 1, 1, 1, 2, 1, 1, 1, 1, 1, 2, 1, 1, 1, 1, 1, 1, 1, 1, 1, 2,\n",
       "        1, 1, 1, 1, 1, 1, 1, 1, 2, 1, 1, 1, 1, 1, 1, 1, 1, 2], dtype=int64)]"
      ]
     },
     "execution_count": 32,
     "metadata": {},
     "output_type": "execute_result"
    }
   ],
   "source": [
    "preds"
   ]
  },
  {
   "cell_type": "markdown",
   "id": "66f49b27",
   "metadata": {},
   "source": [
    "In the following plots, we set y as positive cases and x as Age, then we show our predictions based on x and y by colors\n",
    "\n",
    "Red represents class 2 and Blue represents class 1\n",
    "\n",
    "see the following graphs for more details:"
   ]
  },
  {
   "cell_type": "code",
   "execution_count": 33,
   "id": "f41371d6",
   "metadata": {},
   "outputs": [
    {
     "name": "stdout",
     "output_type": "stream",
     "text": [
      "K = 1\n"
     ]
    },
    {
     "data": {
      "image/png": "[encoded data removed]",
      "text/plain": [
       "<Figure size 432x288 with 2 Axes>"
      ]
     },
     "metadata": {
      "needs_background": "light"
     },
     "output_type": "display_data"
    },
    {
     "name": "stdout",
     "output_type": "stream",
     "text": [
      "K = 5\n"
     ]
    },
    {
     "data": {
      "image/png": "[encoded data removed]",
      "text/plain": [
       "<Figure size 432x288 with 2 Axes>"
      ]
     },
     "metadata": {
      "needs_background": "light"
     },
     "output_type": "display_data"
    },
    {
     "name": "stdout",
     "output_type": "stream",
     "text": [
      "K = 20\n"
     ]
    },
    {
     "data": {
      "image/png": "[encoded data removed]",
      "text/plain": [
       "<Figure size 432x288 with 2 Axes>"
      ]
     },
     "metadata": {
      "needs_background": "light"
     },
     "output_type": "display_data"
    },
    {
     "name": "stdout",
     "output_type": "stream",
     "text": [
      "K = 40\n"
     ]
    },
    {
     "data": {
      "image/png": "[encoded data removed]",
      "text/plain": [
       "<Figure size 432x288 with 2 Axes>"
      ]
     },
     "metadata": {
      "needs_background": "light"
     },
     "output_type": "display_data"
    }
   ],
   "source": [
    "for i in range(4):\n",
    "    print(f\"K = {ks[i]}\")\n",
    "    plt.scatter(x_test['Age'] ,x_test['Number of positive cases'], s=20, c=preds[i], cmap=plt.cm.get_cmap('bwr', 2))\n",
    "    cbar = plt.colorbar()\n",
    "    cbar.set_label(label='preds', size = 10)\n",
    "    cbar.set_ticks([1,2])\n",
    "\n",
    "    plt.xlabel('Age')\n",
    "    plt.ylabel('Positive Cases')\n",
    "\n",
    "    plt.show()"
   ]
  },
  {
   "cell_type": "markdown",
   "id": "8620b9aa",
   "metadata": {},
   "source": [
    "As we can see,by increasing the value of k, data has more tendacy to join class 1 rather than class 2\n",
    "\n",
    "We obviously see more Blue dots than Red dots"
   ]
  },
  {
   "cell_type": "markdown",
   "id": "f4a411a1",
   "metadata": {},
   "source": [
    "# iii)"
   ]
  },
  {
   "cell_type": "markdown",
   "id": "3e0cb94e",
   "metadata": {},
   "source": [
    "In this section we want to determine the optimal k value for our KNN model\n",
    "\n",
    "The following code just does the job by k-fold cross-validation"
   ]
  },
  {
   "cell_type": "code",
   "execution_count": 34,
   "id": "3df56fdc",
   "metadata": {},
   "outputs": [
    {
     "name": "stdout",
     "output_type": "stream",
     "text": [
      "[(1, 0.7091503267973857), (2, 0.7156862745098039), (3, 0.6830065359477123), (4, 0.7189542483660131), (5, 0.6895424836601308), (6, 0.7091503267973857), (7, 0.7058823529411765), (8, 0.7124183006535948), (9, 0.7254901960784315), (10, 0.7287581699346406), (11, 0.7320261437908497), (12, 0.7352941176470589), (13, 0.7352941176470589), (14, 0.738562091503268), (15, 0.7418300653594772), (16, 0.7647058823529411), (17, 0.7679738562091503), (18, 0.7581699346405228), (19, 0.7581699346405228), (20, 0.7549019607843137), (21, 0.7581699346405228), (22, 0.7581699346405228), (23, 0.7647058823529411), (24, 0.761437908496732), (25, 0.7647058823529411), (26, 0.7647058823529411), (27, 0.7712418300653594), (28, 0.7647058823529411), (29, 0.761437908496732), (30, 0.7581699346405228), (31, 0.7516339869281046), (32, 0.7549019607843137), (33, 0.7450980392156863), (34, 0.7516339869281046), (35, 0.7483660130718954), (36, 0.7516339869281046), (37, 0.7418300653594772), (38, 0.7418300653594772), (39, 0.7418300653594772)]\n"
     ]
    }
   ],
   "source": [
    "from sklearn.model_selection import cross_val_score\n",
    "\n",
    "ks = []\n",
    "x = data.drop(\"Survival status\", axis=1)\n",
    "y = data['Survival status']\n",
    "for i in range(1,40):\n",
    "    neigh = KNeighborsClassifier(n_neighbors=i, metric=\"euclidean\")\n",
    "    scores = cross_val_score(estimator=neigh, X=x , y=y, cv=3)\n",
    "    ks.append((i,scores.mean()))\n",
    "print(ks)"
   ]
  },
  {
   "cell_type": "markdown",
   "id": "8f89eea9",
   "metadata": {},
   "source": [
    "The following code gives the best k, which is 27"
   ]
  },
  {
   "cell_type": "code",
   "execution_count": 35,
   "id": "72ed49df",
   "metadata": {},
   "outputs": [
    {
     "data": {
      "text/plain": [
       "27"
      ]
     },
     "execution_count": 35,
     "metadata": {},
     "output_type": "execute_result"
    }
   ],
   "source": [
    "from operator import itemgetter\n",
    "max(ks,key=itemgetter(1))[0]"
   ]
  },
  {
   "cell_type": "code",
   "execution_count": null,
   "id": "de5e0790",
   "metadata": {},
   "outputs": [],
   "source": []
  }
 ],
 "metadata": {
  "kernelspec": {
   "display_name": "Python 3 (ipykernel)",
   "language": "python",
   "name": "python3"
  },
  "language_info": {
   "codemirror_mode": {
    "name": "ipython",
    "version": 3
   },
   "file_extension": ".py",
   "mimetype": "text/x-python",
   "name": "python",
   "nbconvert_exporter": "python",
   "pygments_lexer": "ipython3",
   "version": "3.9.5"
  }
 },
 "nbformat": 4,
 "nbformat_minor": 5
}
